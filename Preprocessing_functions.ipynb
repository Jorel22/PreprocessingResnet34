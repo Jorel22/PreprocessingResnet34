{
  "nbformat": 4,
  "nbformat_minor": 0,
  "metadata": {
    "colab": {
      "name": "Preprocessing_function.ipynb",
      "provenance": [],
      "collapsed_sections": []
    },
    "kernelspec": {
      "name": "python3",
      "display_name": "Python 3"
    }
  },
  "cells": [
    {
      "cell_type": "markdown",
      "metadata": {
        "id": "oTiIx3lZoG5d",
        "colab_type": "text"
      },
      "source": [
        "***PRE-PROCESSING***"
      ]
    },
    {
      "cell_type": "code",
      "metadata": {
        "id": "_hEJ-AQKo5Bl",
        "colab_type": "code",
        "colab": {}
      },
      "source": [
        "import cv2\n",
        "img = cv2.imread(filename,cv2.IMREAD_GRAYSCALE)#filename is the name of the image file"
      ],
      "execution_count": null,
      "outputs": []
    },
    {
      "cell_type": "markdown",
      "metadata": {
        "id": "_4I-Byu_pboV",
        "colab_type": "text"
      },
      "source": [
        "Global histogram equalization(GHE)"
      ]
    },
    {
      "cell_type": "code",
      "metadata": {
        "id": "aEGZxKSkoeC9",
        "colab_type": "code",
        "colab": {}
      },
      "source": [
        "def GHE(img):\n",
        "  img1 = cv2.equalizeHist(img) \n",
        "  return img1"
      ],
      "execution_count": null,
      "outputs": []
    },
    {
      "cell_type": "markdown",
      "metadata": {
        "id": "Y_RV7sPCpqXf",
        "colab_type": "text"
      },
      "source": [
        "Contrast limited adaptive histogram equalization(CLAHE)"
      ]
    },
    {
      "cell_type": "code",
      "metadata": {
        "id": "qrMXlxWtqFJW",
        "colab_type": "code",
        "colab": {}
      },
      "source": [
        "def CLAHE(img):\n",
        "  clahe = cv2.createCLAHE(clipLimit=2.0,tileGridSize=(8,8))\n",
        "  img1 = clahe.apply(img) \n",
        "  return img1"
      ],
      "execution_count": null,
      "outputs": []
    },
    {
      "cell_type": "markdown",
      "metadata": {
        "id": "aq9I6yGgqMyD",
        "colab_type": "text"
      },
      "source": [
        "Pink color mapping"
      ]
    },
    {
      "cell_type": "code",
      "metadata": {
        "id": "8S4Pdo_8qwzU",
        "colab_type": "code",
        "colab": {}
      },
      "source": [
        "def pinkMapping(img):\n",
        "  img1 = cv2.applyColorMap(img, cv2.COLORMAP_PINK)\n",
        "  return img1"
      ],
      "execution_count": null,
      "outputs": []
    },
    {
      "cell_type": "markdown",
      "metadata": {
        "id": "MuBZoSLfq65u",
        "colab_type": "text"
      },
      "source": [
        "Hot color mapping"
      ]
    },
    {
      "cell_type": "code",
      "metadata": {
        "id": "yCvPIxmErXJ7",
        "colab_type": "code",
        "colab": {}
      },
      "source": [
        "def hotMapping(img):\n",
        "  img1 = cv2.applyColorMap(img, cv2.COLORMAP_HOT)\n",
        "  return img1"
      ],
      "execution_count": null,
      "outputs": []
    }
  ]
}