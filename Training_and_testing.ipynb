{
  "nbformat": 4,
  "nbformat_minor": 0,
  "metadata": {
    "colab": {
      "name": "Untitled",
      "provenance": []
    },
    "kernelspec": {
      "name": "python3",
      "display_name": "Python 3"
    }
  },
  "cells": [
    {
      "cell_type": "markdown",
      "metadata": {
        "id": "gNLUpzPveSDT",
        "colab_type": "text"
      },
      "source": [
        "***TRAINING AND TESTING***"
      ]
    },
    {
      "cell_type": "markdown",
      "metadata": {
        "id": "BFVDpthrm7uO",
        "colab_type": "text"
      },
      "source": [
        "IMPORT DATA"
      ]
    },
    {
      "cell_type": "markdown",
      "metadata": {
        "id": "m3vapih2mKcX",
        "colab_type": "text"
      },
      "source": [
        "Mount drive"
      ]
    },
    {
      "cell_type": "code",
      "metadata": {
        "id": "PQpUF78zlZxI",
        "colab_type": "code",
        "colab": {}
      },
      "source": [
        " !curl -s https://course.fast.ai/setup/colab | bash\n",
        " from google.colab import drive\n",
        "drive.mount('/content/gdrive', force_remount=True)"
      ],
      "execution_count": null,
      "outputs": []
    },
    {
      "cell_type": "markdown",
      "metadata": {
        "id": "K41taPBqmSlB",
        "colab_type": "text"
      },
      "source": [
        "Define path of the root \n",
        "folder"
      ]
    },
    {
      "cell_type": "code",
      "metadata": {
        "id": "XiSOHQ_lmXb3",
        "colab_type": "code",
        "colab": {}
      },
      "source": [
        "root_dir = \"/content/gdrive/My Drive/\"\n",
        "base_dir = root_dir + 'fastai-v3_datacopia_color_pink/'\n",
        "from fastai import *\n",
        "from fastai.vision import *\n",
        "from fastai.metrics import error_rate\n",
        "\n",
        "\n",
        "path = Path('gdrive/My Drive/Dataset/') "
      ],
      "execution_count": null,
      "outputs": []
    },
    {
      "cell_type": "markdown",
      "metadata": {
        "id": "N0xwoOkPm1v2",
        "colab_type": "text"
      },
      "source": [
        "Create the transformations for data augmentation"
      ]
    },
    {
      "cell_type": "code",
      "metadata": {
        "id": "0R0UuL1yeX3p",
        "colab_type": "code",
        "colab": {}
      },
      "source": [
        "np.random.seed(7)\n",
        "tfms = get_transforms(do_flip=True,flip_vert=False, max_rotate=25)#Create transformationcs for data augmentation"
      ],
      "execution_count": null,
      "outputs": []
    },
    {
      "cell_type": "markdown",
      "metadata": {
        "id": "WziO4gkZeilA",
        "colab_type": "text"
      },
      "source": [
        "Organize the images in folders, apply data augmentation, define batch size,resize and normalize the images "
      ]
    },
    {
      "cell_type": "code",
      "metadata": {
        "id": "vXI-H7qlei-y",
        "colab_type": "code",
        "colab": {}
      },
      "source": [
        "data = ImageDataBunch.from_folder(path, train=\"train\", valid='validation', test='test', ds_tfms=tfms, size=224, bs=16,\n",
        "                                  num_workers=4).normalize(imagenet_stats)"
      ],
      "execution_count": null,
      "outputs": []
    },
    {
      "cell_type": "code",
      "metadata": {
        "id": "oW7HRzZygllR",
        "colab_type": "code",
        "colab": {}
      },
      "source": [
        "data.show_batch(3, figsize=(6,6)) #Show images"
      ],
      "execution_count": null,
      "outputs": []
    },
    {
      "cell_type": "markdown",
      "metadata": {
        "id": "QPj-iWy3gpdA",
        "colab_type": "text"
      },
      "source": [
        "*MODELO RESNET-34*\n"
      ]
    },
    {
      "cell_type": "code",
      "metadata": {
        "id": "SnMiJTnZgPGV",
        "colab_type": "code",
        "colab": {}
      },
      "source": [
        "learn = cnn_learner(data, models.resnet34, metrics=error_rate)#Import Resnet-34 model\n",
        "learn.unfreeze()#Unfreeze all the layers to perform the training\n",
        "learn.fit_one_cycle(10, max_lr=slice(1e-4, 1e-3)) #Perform the training with a cyclical learning rate from 1e-4 to 1-3\n",
        "interp = ClassificationInterpretation.from_learner(learn) #imp\n",
        "interp.plot_confusion_matrix(figsize=(12,12), dpi=60) #Plot the confusion matrix"
      ],
      "execution_count": null,
      "outputs": []
    }
  ]
}